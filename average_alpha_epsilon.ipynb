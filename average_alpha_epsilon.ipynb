{
 "cells": [
  {
   "cell_type": "code",
   "execution_count": 16,
   "metadata": {
    "collapsed": false
   },
   "outputs": [
    {
     "data": {
      "image/png": "[encoded data removed]",
      "text/plain": [
       "<matplotlib.figure.Figure at 0x11a1b1190>"
      ]
     },
     "metadata": {},
     "output_type": "display_data"
    }
   ],
   "source": [
    "%matplotlib inline\n",
    "import pylab as pl\n",
    "import math\n",
    "import numpy as np\n",
    "import matplotlib.pyplot as plt\n",
    "\n",
    "LIMIT_ALEP_MAX = 0.8453189015\n",
    "LIMIT_ALEP_MIN = 0.7199700935\n",
    "\n",
    "AREA_ALL = 0.06\n",
    "AREA_PANEL = 0.042\n",
    "AREA_OTHER = AREA_ALL - AREA_PANEL\n",
    "\n",
    "PANEL = { \"alpha\": 0.75, \"epsilon\": 0.81 } #太陽光電池素子\n",
    "WHITE = { \"alpha\": 0.25, \"epsilon\": 0.82 } #白色塗料ケミグレイズ Z-202\n",
    "WHITE = { \"alpha\": 0.25, \"epsilon\": 0.82 } #白色塗料ケミグレイズ Z-202\n",
    "BLUE_1 = { \"alpha\": 0.67, \"epsilon\": 0.87 } #青色アルマイト1\n",
    "BLUE_2= { \"alpha\": 0.53, \"epsilon\": 0.82 } #青色アルマイト2\n",
    "\n",
    "material_1 = WHITE\n",
    "material_2 = BLUE_1\n",
    "\n",
    "def main():\n",
    "    areas = []\n",
    "    aleps = []\n",
    "    for area in pl.frange(0, AREA_OTHER , 0.001):\n",
    "        #print area\n",
    "        alep_panel = (PANEL[\"alpha\"]/PANEL[\"epsilon\"]) * (AREA_PANEL / AREA_ALL)\n",
    "        alep_material_1 = (material_1[\"alpha\"]/material_1[\"epsilon\"]) * (area / AREA_ALL)\n",
    "        alep_material_2 = (material_2[\"alpha\"]/material_2[\"epsilon\"]) * ((AREA_OTHER - area) / AREA_ALL)\n",
    "\n",
    "        average_alep = alep_panel + alep_material_1 + alep_material_2\n",
    "        areas.append(area)\n",
    "        aleps.append(average_alep)\n",
    "        \n",
    "    plt.grid(which='major',color='lightgrey',linestyle='dashed')\n",
    "    plt.grid(which='minor',color='black',linestyle='dashed')\n",
    "    plt.plot(aleps, areas, 'red')\n",
    "    plt.plot([LIMIT_ALEP_MIN, LIMIT_ALEP_MIN], [0, 0.03], 'blue',linestyle='dashed')\n",
    "    plt.plot([LIMIT_ALEP_MAX, LIMIT_ALEP_MAX], [0, 0.03], 'red',linestyle='dashed')\n",
    "\n",
    "if __name__ == '__main__':\n",
    "    main()\n"
   ]
  },
  {
   "cell_type": "code",
   "execution_count": null,
   "metadata": {
    "collapsed": true
   },
   "outputs": [],
   "source": []
  }
 ],
 "metadata": {
  "kernelspec": {
   "display_name": "Python 2",
   "language": "python",
   "name": "python2"
  },
  "language_info": {
   "codemirror_mode": {
    "name": "ipython",
    "version": 2
   },
   "file_extension": ".py",
   "mimetype": "text/x-python",
   "name": "python",
   "nbconvert_exporter": "python",
   "pygments_lexer": "ipython2",
   "version": "2.7.13"
  }
 },
 "nbformat": 4,
 "nbformat_minor": 2
}
