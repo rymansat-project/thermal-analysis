{
 "cells": [
  {
   "cell_type": "code",
   "execution_count": 24,
   "metadata": {
    "collapsed": false
   },
   "outputs": [
    {
     "name": "stdout",
     "output_type": "stream",
     "text": [
      "0.879182630907\n",
      "0.871428682678\n",
      "0.863674734448\n",
      "0.855920786219\n",
      "0.84816683799\n",
      "0.840412889761\n",
      "0.832658941532\n",
      "0.824904993303\n",
      "0.817151045074\n",
      "0.809397096845\n",
      "0.801643148615\n",
      "0.793889200386\n",
      "0.786135252157\n",
      "0.778381303928\n",
      "0.770627355699\n",
      "0.76287340747\n",
      "0.755119459241\n",
      "0.747365511011\n",
      "0.739611562782\n"
     ]
    }
   ],
   "source": [
    "import pylab as pl\n",
    "\n",
    "LIMIT_ALEP_MAX = 0.8453189015\n",
    "LIMIT_ALEP_MIN = 0.7199700935\n",
    "\n",
    "AREA_ALL = 0.06\n",
    "AREA_PANEL = 0.042\n",
    "AREA_OTHER = AREA_ALL - AREA_PANEL\n",
    "\n",
    "PANEL = { \"alpha\": 0.75, \"epsilon\": 0.81 } #太陽光電池素子\n",
    "WHITE = { \"alpha\": 0.25, \"epsilon\": 0.82 } #白色塗料ケミグレイズ Z-202\n",
    "BLUE_1 = { \"alpha\": 0.67, \"epsilon\": 0.87 } #青色アルマイト1\n",
    "BLUE_2= { \"alpha\": 0.53, \"epsilon\": 0.82 } #青色アルマイト2\n",
    "\n",
    "material_1 = WHITE\n",
    "material_2 = BLUE_1\n",
    "\n",
    "for area in pl.frange(0, AREA_OTHER , 0.001):\n",
    "    #print area\n",
    "    alep_panel = (PANEL[\"alpha\"]/PANEL[\"epsilon\"]) * (AREA_PANEL / AREA_ALL)\n",
    "    alep_material_1 = (material_1[\"alpha\"]/material_1[\"epsilon\"]) * (area / AREA_ALL)\n",
    "    alep_material_2 = (material_2[\"alpha\"]/material_2[\"epsilon\"]) * ((AREA_OTHER - area) / AREA_ALL)\n",
    "\n",
    "#     print (area / AREA_ALL + (AREA_OTHER - area) / AREA_ALL)\n",
    "    print (alep_panel + alep_material_1 + alep_material_2)\n",
    "\n"
   ]
  },
  {
   "cell_type": "code",
   "execution_count": null,
   "metadata": {
    "collapsed": true
   },
   "outputs": [],
   "source": []
  }
 ],
 "metadata": {
  "kernelspec": {
   "display_name": "Python 2",
   "language": "python",
   "name": "python2"
  },
  "language_info": {
   "codemirror_mode": {
    "name": "ipython",
    "version": 2
   },
   "file_extension": ".py",
   "mimetype": "text/x-python",
   "name": "python",
   "nbconvert_exporter": "python",
   "pygments_lexer": "ipython2",
   "version": "2.7.13"
  }
 },
 "nbformat": 4,
 "nbformat_minor": 2
}
