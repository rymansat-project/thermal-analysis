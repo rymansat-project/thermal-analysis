{
 "cells": [
  {
   "cell_type": "code",
   "execution_count": 65,
   "metadata": {
    "collapsed": false
   },
   "outputs": [
    {
     "name": "stdout",
     "output_type": "stream",
     "text": [
      "Alpha Epsilon is:\n",
      "0.832123477557\n",
      "Acceptable Alpha Epsilon\n"
     ]
    }
   ],
   "source": [
    "LIMIT_ALEP_MAX = 0.8453189015\n",
    "LIMIT_ALEP_MIN = 0.7199700935\n",
    "\n",
    "AREA_ALL = 0.06\n",
    "\n",
    "PANEL = { \"alpha\": 0.75, \"epsilon\": 0.81, \"ratio\": 0.7 } #太陽光電池素子\n",
    "WHITE = { \"alpha\": 0.25, \"epsilon\": 0.82, \"ratio\": 0.24 } #白色塗料ケミグレイズ Z-202\n",
    "BLACK = { \"alpha\": 0.92, \"epsilon\": 0.87, \"ratio\": 0.0 } #黒色塗料ケミグレイズ Z-306\n",
    "BLUE_1 = { \"alpha\": 0.67, \"epsilon\": 0.87, \"ratio\": 0.04 } #青色アルマイト1\n",
    "BLUE_2= { \"alpha\": 0.53, \"epsilon\": 0.82, \"ratio\": 0.0 } #青色アルマイト2\n",
    "ALMI = { \"alpha\": 0.16, \"epsilon\": 0.04, \"ratio\": 0.02 } #アルミニウムバフ研磨\n",
    "\n",
    "# # レール部分の面積比 ~~ 0.02\n",
    "# def calc_almi_ratio():\n",
    "#     ALMI[\"ratio\"] = (0.01*0.0085*2*4 + 0.0085*0.0085*4*2)  / AREA_ALL\n",
    "#     print ALMI[\"ratio\"] \n",
    "\n",
    "def main():\n",
    "    materials = [PANEL, WHITE, BLACK, BLUE_1, BLUE_2, ALMI]\n",
    "    average_alep = 0\n",
    "    total_ratio = 0\n",
    "    for material in materials:\n",
    "        alep = (material[\"alpha\"]/material[\"epsilon\"]) * (material[\"ratio\"])\n",
    "        total_ratio += material[\"ratio\"]\n",
    "        average_alep += alep\n",
    "        \n",
    "    \n",
    "    if round(total_ratio-1, 7) != 0:\n",
    "        print \"Invalid ratio\"\n",
    "        return\n",
    "    \n",
    "    print \"Alpha Epsilon is:\"\n",
    "    print average_alep\n",
    "    if average_alep > LIMIT_ALEP_MAX or average_alep < LIMIT_ALEP_MIN:\n",
    "        print \"Unacceptable Alpha Epsilon\"\n",
    "    else:\n",
    "        print \"Acceptable Alpha Epsilon\"    \n",
    "\n",
    "if __name__ == '__main__':\n",
    "    main()\n"
   ]
  },
  {
   "cell_type": "code",
   "execution_count": null,
   "metadata": {
    "collapsed": true
   },
   "outputs": [],
   "source": []
  }
 ],
 "metadata": {
  "kernelspec": {
   "display_name": "Python 2",
   "language": "python",
   "name": "python2"
  },
  "language_info": {
   "codemirror_mode": {
    "name": "ipython",
    "version": 2
   },
   "file_extension": ".py",
   "mimetype": "text/x-python",
   "name": "python",
   "nbconvert_exporter": "python",
   "pygments_lexer": "ipython2",
   "version": "2.7.13"
  }
 },
 "nbformat": 4,
 "nbformat_minor": 2
}
