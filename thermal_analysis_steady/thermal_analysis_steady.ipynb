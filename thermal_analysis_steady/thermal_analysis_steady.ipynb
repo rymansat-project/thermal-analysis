{
 "cells": [
  {
   "cell_type": "code",
   "execution_count": 47,
   "metadata": {
    "collapsed": false
   },
   "outputs": [
    {
     "name": "stdout",
     "output_type": "stream",
     "text": [
      "0.719970093513\n",
      "0.845318901453\n"
     ]
    },
    {
     "data": {
      "image/png": "[encoded data removed]",
      "text/plain": [
       "<matplotlib.figure.Figure at 0x113f9ff90>"
      ]
     },
     "metadata": {},
     "output_type": "display_data"
    }
   ],
   "source": [
    " # coding:utf-8\n",
    "%matplotlib inline\n",
    "import math\n",
    "import numpy as np\n",
    "import matplotlib.pyplot as plt\n",
    "\n",
    "ABS_ZERO = -273.15\n",
    "\n",
    "def calcAlEp(param,temp):\n",
    "    A1 = param[\"Ato\"]*param[\"Stv\"]*temp**4.0\n",
    "    A2 = param[\"Ff\"]*param[\"Ae\"]*param[\"Pe\"]\n",
    "    B1 = param[\"As\"]*param[\"Ps\"]\n",
    "    B2 = param[\"Ff\"]*param[\"Ae\"]*param[\"Pa\"]\n",
    "    alep = (A1 - A2) / (param[\"Lr\"] * (B1 + B2))\n",
    "    return alep\n",
    "\n",
    "def calcTemperature(param,alep):\n",
    "    B1 = param[\"As\"]*param[\"Ps\"]\n",
    "    B2 = param[\"Ff\"]*param[\"Ae\"]*param[\"Pa\"]\n",
    "    A2 = param[\"Ff\"]*param[\"Ae\"]*param[\"Pe\"]\n",
    "    Temp4 = (alep * param[\"Lr\"] * (B1 + B2) + A2)/(param[\"Ato\"]*param[\"Stv\"])\n",
    "    Temp = Temp4 **0.25\n",
    "    return Temp\n",
    "\n",
    "\n",
    "# 形態係数 F は人工衛星が地球と比較し、十分に小さいため球体間における形態係数とする。\n",
    "def calcFormFactor(R,H):\n",
    "    Atmp = R**2.0\n",
    "    Btmp = (R + H)**2.0\n",
    "    Ff = 0.5 * (1.0-(1.0-Atmp/Btmp)**0.5)\n",
    "    return Ff\n",
    "\n",
    "def main():\n",
    "    Rh = 6378.14 # 地球の半径[km]\n",
    "    Hh = 400 # 高度[km]\n",
    "    Ff = calcFormFactor(Rh,Hh)\n",
    "    aleps = []\n",
    "    lowTemps = []\n",
    "    highTemps = []\n",
    "\n",
    "    # 低温最悪条件\n",
    "    lowparam ={\n",
    "        \"Ff\" : Ff, #放射形態係数\n",
    "        \"As\" : 0.01000, #衛星姿勢(太陽投影面積) [m^s]\n",
    "        \"Ps\" : 1318, #太陽定数 Ps[W/m^2]\n",
    "        \"Pe\" : 237, #地球赤外輻射 Pe[W/m^2]\n",
    "        \"Lr\" : 0.61, #軌道1周あたりの日照量\n",
    "        \"Stv\": 5.67*10**(-8), #ステファン・ボルツマン定数\n",
    "        \"Ato\": 0.06000, #衛星の表面積\n",
    "        \"Ae\" : 0.06000} #衛星の表面積と同じ値を使う\n",
    "    lowparam[\"Pa\"] = lowparam[\"Ps\"]*0.3 #アルベド\n",
    "\n",
    "    # 高温最悪条件\n",
    "    hiparam ={\n",
    "        \"Ff\" : Ff,\n",
    "        \"As\" : 0.01732,\n",
    "        \"Ps\" : 1414,\n",
    "        \"Pe\" : 237,\n",
    "        \"Lr\" : 1.00,\n",
    "        \"Stv\": 5.67*10**(-8),\n",
    "        \"Ato\": 0.06000,\n",
    "        \"Ae\" : 0.06000}\n",
    "    hiparam[\"Pa\"] = hiparam[\"Ps\"]*0.3\n",
    "\n",
    "    for tidx in range(220,280,1):\n",
    "        lowtemp = tidx\n",
    "        alep = calcAlEp(lowparam,lowtemp)\n",
    "        hitemp = calcTemperature(hiparam,alep)\n",
    "        #print str(alep)+\",\"+str(lowtemp)+\",\"+str(hitemp)+\\\n",
    "        #    \",\"+str(lowtemp + ABS_ZERO)+\",\"+str(hitemp + ABS_ZERO)\n",
    "        aleps.append(alep)\n",
    "        lowTemps.append(lowtemp + ABS_ZERO)\n",
    "        highTemps.append(hitemp + ABS_ZERO)\n",
    "\n",
    "#         print str(math.floor(hitemp))\n",
    "        \n",
    "#         if lowtemp == 253:\n",
    "#             print str(alep)\n",
    "#         if math.floor(hitemp) == 312.0:\n",
    "#             print str(alep)\n",
    "           \n",
    "\n",
    "#     axes = plt.gca()\n",
    "#     axes.set_xlim(0, 4)\n",
    "#     axes.set_ylim(0, 3)\n",
    "#     axes.set_xticklabels([])\n",
    "#     axes.set_yticklabels([])\n",
    "    plt.grid(which='major',color='lightgrey',linestyle='dashed')\n",
    "    plt.grid(which='minor',color='black',linestyle='dashed')\n",
    "    plt.plot(aleps, lowTemps, 'blue')\n",
    "    plt.plot(aleps, highTemps, 'red')\n",
    "    plt.plot([0.2, 1.2], [50, 50], 'red',linestyle='dashed')\n",
    "    plt.plot([0.2, 1.2], [-20, -20], 'blue',linestyle='dashed')\n",
    "\n",
    "if __name__ == '__main__':\n",
    "    main()"
   ]
  },
  {
   "cell_type": "code",
   "execution_count": null,
   "metadata": {
    "collapsed": true
   },
   "outputs": [],
   "source": []
  }
 ],
 "metadata": {
  "kernelspec": {
   "display_name": "Python 2",
   "language": "python",
   "name": "python2"
  },
  "language_info": {
   "codemirror_mode": {
    "name": "ipython",
    "version": 2
   },
   "file_extension": ".py",
   "mimetype": "text/x-python",
   "name": "python",
   "nbconvert_exporter": "python",
   "pygments_lexer": "ipython2",
   "version": "2.7.13"
  }
 },
 "nbformat": 4,
 "nbformat_minor": 2
}
